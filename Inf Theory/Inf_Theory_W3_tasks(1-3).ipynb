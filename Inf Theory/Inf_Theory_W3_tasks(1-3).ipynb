{
 "cells": [
  {
   "cell_type": "markdown",
   "metadata": {},
   "source": [
    "# Assignment 3\n",
    "## Kassymkhan Sundetbay, Zhanat Zhorakhan\n",
    "### BDA-1902"
   ]
  },
  {
   "cell_type": "code",
   "execution_count": 1,
   "metadata": {},
   "outputs": [],
   "source": [
    "import pandas as pd\n",
    "import numpy as np\n",
    "import sys\n",
    "import re\n",
    "import os"
   ]
  },
  {
   "cell_type": "markdown",
   "metadata": {},
   "source": [
    "# Part 1"
   ]
  },
  {
   "cell_type": "code",
   "execution_count": 2,
   "metadata": {},
   "outputs": [
    {
     "name": "stdout",
     "output_type": "stream",
     "text": [
      " Char   Probability \n",
      "----------------------\n",
      "' ' 0.128\n",
      "'e' 0.103\n",
      "'n' 0.09\n",
      "'o' 0.077\n",
      "'s' 0.064\n",
      "'i' 0.051\n",
      "'a' 0.051\n",
      "'t' 0.038\n",
      "'d' 0.038\n",
      "'l' 0.038\n",
      "'B' 0.026\n",
      "'u' 0.026\n",
      "'C' 0.026\n",
      "'T' 0.026\n",
      "'R' 0.026\n",
      "'p' 0.026\n",
      "'h' 0.026\n",
      "'P' 0.013\n",
      "'A' 0.013\n",
      "'D' 0.013\n",
      "'k' 0.013\n",
      "'b' 0.013\n",
      "'c' 0.013\n",
      "'W' 0.013\n",
      "'g' 0.013\n",
      "'V' 0.013\n",
      "':' 0.013\n",
      "'r' 0.013\n"
     ]
    }
   ],
   "source": [
    "float_formatter = \"{:.2f}\".format\n",
    "\n",
    "with open('text.txt', 'r') as file:\n",
    "    string = file.read() \n",
    "    \n",
    "total_characters = len(string)\n",
    "\n",
    "# Calculating frequency\n",
    "freq = {}\n",
    "for a in string:\n",
    "    if a in freq:\n",
    "        freq[a] += 1\n",
    "    else:\n",
    "        freq[a] = 1\n",
    "\n",
    "freq = sorted(freq.items(), key=lambda x: x[1], reverse=True)\n",
    "freq_df=pd.DataFrame(freq, columns=[\"Char\", \"Frequency\"])\n",
    "freq_df['Probability']=round((freq_df['Frequency']/total_characters), 3)\n",
    "\n",
    "f = freq_df[['Frequency']].to_numpy()\n",
    "c = freq_df[['Char']].to_numpy()\n",
    "p = freq_df[['Probability']].to_numpy()\n",
    "\n",
    "cp = freq_df[['Char','Probability']].to_numpy()\n",
    "\n",
    "\n",
    "\n",
    "print(' Char   Probability ')\n",
    "print('----------------------')\n",
    "print(re.sub(r' *\\n *', '\\n',\n",
    "                 np.array_str(np.c_[c, p]).replace('[', '').replace(']', '').strip()))"
   ]
  },
  {
   "cell_type": "markdown",
   "metadata": {},
   "source": [
    "# Part 2: WIP"
   ]
  },
  {
   "cell_type": "code",
   "execution_count": 3,
   "metadata": {},
   "outputs": [],
   "source": [
    "# Creating tree nodes\n",
    "class NodeTree(object):\n",
    "\n",
    "    def __init__(self, left=None, right=None):\n",
    "        self.left = left\n",
    "        self.right = right\n",
    "\n",
    "    def children(self):\n",
    "        return (self.left, self.right)\n",
    "\n",
    "    def nodes(self):\n",
    "        return (self.left, self.right)\n",
    "\n",
    "    def __str__(self):\n",
    "        return '%s_%s' % (self.left, self.right)\n",
    "\n",
    "nodes = freq"
   ]
  },
  {
   "cell_type": "markdown",
   "metadata": {},
   "source": [
    "# Part 3: Symbol – Probability - Codeword"
   ]
  },
  {
   "cell_type": "code",
   "execution_count": 4,
   "metadata": {},
   "outputs": [
    {
     "name": "stdout",
     "output_type": "stream",
     "text": [
      "Symbol | Codeword\n",
      "_________________\n",
      "    -   101\n",
      "e   -   001\n",
      "n   -   1111\n",
      "o   -   1101\n",
      "s   -   1001\n",
      "i   -   0101\n",
      "a   -   0100\n",
      "t   -   11100\n",
      "d   -   11001\n",
      "l   -   11000\n",
      "B   -   10000\n",
      "u   -   111011\n",
      "C   -   111010\n",
      "T   -   00001\n",
      "R   -   00000\n",
      "p   -   00011\n",
      "h   -   00010\n",
      "P   -   100010\n",
      "A   -   1000111\n",
      "D   -   1000110\n",
      "k   -   011101\n",
      "b   -   011100\n",
      "c   -   011111\n",
      "W   -   011110\n",
      "g   -   011001\n",
      "V   -   011000\n",
      ":   -   011011\n",
      "r   -   011010\n"
     ]
    }
   ],
   "source": [
    "# Main function implementing huffman coding\n",
    "def huffman_code_tree(node, left=True, binString=''):\n",
    "    if type(node) is str:\n",
    "        return {node: binString}\n",
    "    (l, r) = node.children()\n",
    "    d = dict()\n",
    "    d.update(huffman_code_tree(l, True, binString + '0'))\n",
    "    d.update(huffman_code_tree(r, False, binString + '1'))\n",
    "    return d\n",
    "\n",
    "while len(nodes) > 1:\n",
    "    (key1, c1) = nodes[-1]\n",
    "    (key2, c2) = nodes[-2]\n",
    "    nodes = nodes[:-2]\n",
    "    node = NodeTree(key1, key2)\n",
    "    nodes.append((node, c1 + c2))\n",
    "\n",
    "    nodes = sorted(nodes, key=lambda x: x[1], reverse=True)\n",
    "\n",
    "huffmanCode = huffman_code_tree(nodes[0][0])\n",
    "\n",
    "print('Symbol | Codeword')\n",
    "print('_________________')\n",
    "for (char, frequency,) in freq:\n",
    "    print(char, '  -  ',huffmanCode[char])"
   ]
  }
 ],
 "metadata": {
  "kernelspec": {
   "display_name": "Python 3",
   "language": "python",
   "name": "python3"
  },
  "language_info": {
   "codemirror_mode": {
    "name": "ipython",
    "version": 3
   },
   "file_extension": ".py",
   "mimetype": "text/x-python",
   "name": "python",
   "nbconvert_exporter": "python",
   "pygments_lexer": "ipython3",
   "version": "3.8.3"
  }
 },
 "nbformat": 4,
 "nbformat_minor": 4
}
