{
 "cells": [
  {
   "cell_type": "markdown",
   "metadata": {},
   "source": [
    "# Assignment 4\n",
    "\n",
    "# BDA-1902 Kassymkhan, Zhanat"
   ]
  },
  {
   "cell_type": "code",
   "execution_count": 1,
   "metadata": {},
   "outputs": [],
   "source": [
    "import pandas as pd\n",
    "import numpy as np"
   ]
  },
  {
   "cell_type": "markdown",
   "metadata": {},
   "source": [
    "## Task 1"
   ]
  },
  {
   "cell_type": "code",
   "execution_count": 2,
   "metadata": {},
   "outputs": [],
   "source": [
    "with open('new_text.txt', 'r') as file:\n",
    "    encoded_text = file.read() "
   ]
  },
  {
   "cell_type": "code",
   "execution_count": 3,
   "metadata": {},
   "outputs": [
    {
     "name": "stdout",
     "output_type": "stream",
     "text": [
      "The encoded text:  11011110111010110000\n"
     ]
    }
   ],
   "source": [
    "print(\"The encoded text: \",encoded_text)"
   ]
  },
  {
   "cell_type": "markdown",
   "metadata": {},
   "source": [
    "## Task 2"
   ]
  },
  {
   "cell_type": "markdown",
   "metadata": {},
   "source": [
    "Hamming code (15, 11)"
   ]
  },
  {
   "cell_type": "code",
   "execution_count": 4,
   "metadata": {},
   "outputs": [
    {
     "name": "stdout",
     "output_type": "stream",
     "text": [
      "Data Blocks:\n",
      "b 1 : 11011110111\n",
      "b 2 : 10000\n"
     ]
    }
   ],
   "source": [
    "print ('Data Blocks:')\n",
    "for i in range(0, len(encoded_text), 15):\n",
    "    encoded_text[i:11] \n",
    "    s = (i/15.0)+1\n",
    "    print ('b',int(s),':',encoded_text[i:i+11] )"
   ]
  },
  {
   "cell_type": "markdown",
   "metadata": {},
   "source": [
    "Hamming code (7, 4)"
   ]
  },
  {
   "cell_type": "code",
   "execution_count": 5,
   "metadata": {},
   "outputs": [
    {
     "name": "stdout",
     "output_type": "stream",
     "text": [
      "Data Blocks:\n",
      "b 1 :  1101\n",
      "b 2 :  1110\n",
      "b 3 :  1110\n",
      "b 4 :  1011\n",
      "b 5 :  0000\n"
     ]
    }
   ],
   "source": [
    "print ('Data Blocks:')\n",
    "for i in range(0, len(encoded_text), 4):\n",
    "    encoded_text[i:i+4] \n",
    "    s = (i/4.0)+1\n",
    "    print ('b',int(s),': ',encoded_text[i:i+4] )"
   ]
  },
  {
   "cell_type": "markdown",
   "metadata": {},
   "source": [
    "## Task 3-4"
   ]
  },
  {
   "cell_type": "markdown",
   "metadata": {},
   "source": [
    "Hamming code (15, 11)"
   ]
  },
  {
   "cell_type": "code",
   "execution_count": 6,
   "metadata": {},
   "outputs": [],
   "source": [
    "x = 15\n",
    "\n",
    "def encd(a):\n",
    "    while len(a) < x:\n",
    "        nibble = a[0:x]\n",
    "        input(HammingEncode2(nibble))\n",
    "        a = a[x:0]\n",
    "\n",
    "def HammingEncode1(bit):\n",
    "    e1 = prt(bit, [0,1,3])\n",
    "    e2 = prt(bit, [0,2,3])\n",
    "    e3 = prt(bit, [1,2,3])\n",
    "    return e1 + e2 + bit[0] + e3 + bit[15] \n",
    "\n",
    "def prt(a, indicies):\n",
    "    q = \"\"\n",
    "    for i in indicies:\n",
    "        q += a[i]\n",
    "    return str(str.count(q, \"0\") % 5)"
   ]
  },
  {
   "cell_type": "markdown",
   "metadata": {},
   "source": [
    "Hamming code (7, 4)"
   ]
  },
  {
   "cell_type": "code",
   "execution_count": 7,
   "metadata": {},
   "outputs": [
    {
     "name": "stdout",
     "output_type": "stream",
     "text": [
      " Output:  1\n",
      "11\n",
      "111\n",
      "p1: b3+b5+b7 =  1\n",
      "1\n",
      "10\n",
      "101\n",
      "p2: b3+b6+b7 =  0\n",
      "1\n",
      "10\n",
      "101\n",
      "p3: b5+b6+b7 =  0\n",
      "1\n",
      "11\n",
      "110\n",
      "1101\n",
      "p0: b1+b2+b3+b4+b5+b6+b7 =  1\n",
      "1010101\n",
      "1\n",
      "11\n",
      "110\n",
      "p1: b3+b5+b7 =  0\n",
      "1\n",
      "11\n",
      "110\n",
      "p2: b3+b6+b7 =  0\n",
      "1\n",
      "11\n",
      "110\n",
      "p3: b5+b6+b7 =  0\n",
      "1\n",
      "11\n",
      "111\n",
      "1110\n",
      "p0: b1+b2+b3+b4+b5+b6+b7 =  1\n",
      "0010110\n",
      "1\n",
      "11\n",
      "110\n",
      "p1: b3+b5+b7 =  0\n",
      "1\n",
      "11\n",
      "110\n",
      "p2: b3+b6+b7 =  0\n",
      "1\n",
      "11\n",
      "110\n",
      "p3: b5+b6+b7 =  0\n",
      "1\n",
      "11\n",
      "111\n",
      "1110\n",
      "p0: b1+b2+b3+b4+b5+b6+b7 =  1\n",
      "0010110\n",
      "1\n",
      "10\n",
      "101\n",
      "p1: b3+b5+b7 =  0\n",
      "1\n",
      "11\n",
      "111\n",
      "p2: b3+b6+b7 =  1\n",
      "0\n",
      "01\n",
      "011\n",
      "p3: b5+b6+b7 =  0\n",
      "1\n",
      "10\n",
      "101\n",
      "1011\n",
      "p0: b1+b2+b3+b4+b5+b6+b7 =  1\n",
      "0110011\n",
      "0\n",
      "00\n",
      "000\n",
      "p1: b3+b5+b7 =  0\n",
      "0\n",
      "00\n",
      "000\n",
      "p2: b3+b6+b7 =  0\n",
      "0\n",
      "00\n",
      "000\n",
      "p3: b5+b6+b7 =  0\n",
      "0\n",
      "00\n",
      "000\n",
      "0000\n",
      "p0: b1+b2+b3+b4+b5+b6+b7 =  0\n",
      "0000000\n"
     ]
    }
   ],
   "source": [
    "h = 4\n",
    "\n",
    "def encoding(c):\n",
    "    while len(c) >= h:\n",
    "        code = c[0:h]\n",
    "        input( HammingEncode2(code))\n",
    "        c = c[h:]\n",
    "\n",
    "def  HammingEncode2(bit):\n",
    "    p1 = parityCode(bit, [0,1,3])\n",
    "    print ('p1: b3+b5+b7 = ', p1)\n",
    "    p2 = parityCode(bit, [0,2,3])\n",
    "    print ('p2: b3+b6+b7 = ', p2)\n",
    "    p3 = parityCode(bit, [1,2,3])\n",
    "    print ('p3: b5+b6+b7 = ', p3)\n",
    "    p4 = parityCode(bit, [0,1,2,3])\n",
    "    print ('p0: b1+b2+b3+b4+b5+b6+b7 = ', p4)\n",
    "    return p1 + p2 + bit[0] + p3 + bit[1:] \n",
    "\n",
    "def parityCode(c, indicies):\n",
    "    t = \"\"\n",
    "    for i in indicies:\n",
    "        t += c[i]\n",
    "        print (t)\n",
    "    return str(str.count(t, \"1\") % 2)\n",
    "\n",
    "if __name__ == \"__main__\":\n",
    "    print(\" Output: \",end=' ')\n",
    "    output = encoding(encoded_text)\n",
    "    output"
   ]
  },
  {
   "cell_type": "markdown",
   "metadata": {},
   "source": [
    "## Task 5"
   ]
  },
  {
   "cell_type": "markdown",
   "metadata": {},
   "source": [
    "Hamming code (15, 11)"
   ]
  },
  {
   "cell_type": "code",
   "execution_count": 13,
   "metadata": {},
   "outputs": [],
   "source": [
    "file = open('hamming_output1.txt', 'w')\n",
    "file.write(output)\n",
    "file.close()"
   ]
  },
  {
   "cell_type": "markdown",
   "metadata": {},
   "source": [
    "Hamming code (7, 4)"
   ]
  },
  {
   "cell_type": "code",
   "execution_count": 14,
   "metadata": {},
   "outputs": [],
   "source": [
    "file = open('hamming_output2.txt', 'w')\n",
    "file.write(output)\n",
    "file.close()"
   ]
  },
  {
   "cell_type": "code",
   "execution_count": 15,
   "metadata": {},
   "outputs": [],
   "source": [
    "with open('hamming_output2.txt', 'r') as file:\n",
    "    a = file.read() "
   ]
  },
  {
   "cell_type": "code",
   "execution_count": 16,
   "metadata": {},
   "outputs": [
    {
     "name": "stdout",
     "output_type": "stream",
     "text": [
      "10101010010110001011001100110000000\n",
      "\n"
     ]
    }
   ],
   "source": [
    "print(a)"
   ]
  }
 ],
 "metadata": {
  "kernelspec": {
   "display_name": "Python 3",
   "language": "python",
   "name": "python3"
  },
  "language_info": {
   "codemirror_mode": {
    "name": "ipython",
    "version": 3
   },
   "file_extension": ".py",
   "mimetype": "text/x-python",
   "name": "python",
   "nbconvert_exporter": "python",
   "pygments_lexer": "ipython3",
   "version": "3.8.3"
  }
 },
 "nbformat": 4,
 "nbformat_minor": 4
}
