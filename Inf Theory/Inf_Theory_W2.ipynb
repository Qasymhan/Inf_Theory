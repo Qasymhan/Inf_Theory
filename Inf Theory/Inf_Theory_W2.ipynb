{
 "cells": [
  {
   "cell_type": "code",
   "execution_count": 1,
   "metadata": {},
   "outputs": [],
   "source": [
    "import numpy as np\n",
    "import pandas as pd\n",
    "import warnings\n",
    "import collections\n",
    "import pprint"
   ]
  },
  {
   "cell_type": "code",
   "execution_count": 12,
   "metadata": {},
   "outputs": [
    {
     "name": "stdout",
     "output_type": "stream",
     "text": [
      "{'O': 0.0003862495171881035, 'n': 0.05858117677352903, ' ': 0.15810480236899704, 'T': 0.003862495171881035, 'r': 0.05059868675164156, 'u': 0.017767477790652762, 'm': 0.0217587228015965, 'p': 0.021629972962533797, 'f': 0.019956225054718682, ',': 0.009398738251577185, 'G': 0.0027037466203167246, 'a': 0.06772241534698081, 'e': 0.08948113814857732, 't': 0.06257242178447277, 'z': 0.0024462469421913224, 'V': 0.0003862495171881035, 'o': 0.05909617612977984, 'w': 0.011716235354705807, 's': 0.05317368353289558, 'F': 0.0011587485515643105, 'i': 0.06282992146259817, 'g': 0.020084974893781384, 'h': 0.03244495944380069, 'S': 0.0011587485515643105, 'x': 0.0010299987125016094, 'c': 0.0217587228015965, 'k': 0.004634994206257242, 'A': 0.001544998068752414, 'l': 0.03566370542036822, 'd': 0.02935496330629587, 'v': 0.0070812411484485645, 'y': 0.014162482296897129, '’': 0.004634994206257242, 'b': 0.009656237929702587, 'R': 0.001544998068752414, '.': 0.00978498776876529, 'M': 0.002317497103128621, 'I': 0.0021887472640659197, '(': 0.00012874983906270118, 'P': 0.0011587485515643105, ')': 0.00012874983906270118, '—': 0.0009012488734389082, 'N': 0.0012874983906270116, 'E': 0.0003862495171881035, '“': 0.003604995493755633, '”': 0.0033474958156302303, 'D': 0.0011587485515643105, '-': 0.001544998068752414, 'j': 0.0006437491953135058, 'C': 0.0021887472640659197, 'B': 0.0016737479078151151, 'q': 0.00012874983906270118, '2': 0.0006437491953135058, '0': 0.0005149993562508047, '1': 0.000772499034376207, '6': 0.00025749967812540236, 'H': 0.0009012488734389082, 'J': 0.0005149993562508047, 'W': 0.0010299987125016094, 'U': 0.00025749967812540236, ':': 0.00012874983906270118, 'Y': 0.00012874983906270118, '9': 0.000772499034376207, '8': 0.00012874983906270118, '4': 0.00012874983906270118, 'K': 0.0005149993562508047, \"'\": 0.00012874983906270118, 'Q': 0.00012874983906270118, '?': 0.00012874983906270118, 'L': 0.00025749967812540236} \n",
      "\n",
      "The total number of the characters in this text is 7767\n"
     ]
    }
   ],
   "source": [
    "def characters_frequency(data):\n",
    "    dictionary = {}\n",
    "    for total_characters in data:\n",
    "        keys = dictionary.keys()\n",
    "        if total_characters in keys:\n",
    "            dictionary[total_characters] += 1\n",
    "        else:\n",
    "            dictionary[total_characters] = 1\n",
    "    return dictionary\n",
    "\n",
    "def frequency_to_probability(dictionary, total_characters):\n",
    "    for i in dictionary.keys():\n",
    "        dictionary[i] /= total_characters\n",
    "    return dictionary\n",
    "\n",
    "with open('text.txt', 'r') as file:\n",
    "    data = file.read().replace('\\n', '')\n",
    "    total_characters = len(data)\n",
    "    dictionary = characters_frequency(data)\n",
    "\n",
    "\n",
    "print(frequency_to_probability(dictionary, total_characters), '\\n')\n",
    "\n",
    "print(\"The total number of the characters in this text is\",total_characters)"
   ]
  },
  {
   "cell_type": "code",
   "execution_count": null,
   "metadata": {},
   "outputs": [],
   "source": []
  }
 ],
 "metadata": {
  "kernelspec": {
   "display_name": "Python 3",
   "language": "python",
   "name": "python3"
  },
  "language_info": {
   "codemirror_mode": {
    "name": "ipython",
    "version": 3
   },
   "file_extension": ".py",
   "mimetype": "text/x-python",
   "name": "python",
   "nbconvert_exporter": "python",
   "pygments_lexer": "ipython3",
   "version": "3.8.3"
  }
 },
 "nbformat": 4,
 "nbformat_minor": 4
}
