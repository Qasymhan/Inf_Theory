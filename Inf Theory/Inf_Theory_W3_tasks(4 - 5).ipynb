{
 "cells": [
  {
   "cell_type": "markdown",
   "metadata": {},
   "source": [
    "# Assignment 3"
   ]
  },
  {
   "cell_type": "code",
   "execution_count": 15,
   "metadata": {},
   "outputs": [],
   "source": [
    "import pandas as pd\n",
    "import numpy as np\n",
    "import sys\n",
    "import re\n",
    "import os"
   ]
  },
  {
   "cell_type": "markdown",
   "metadata": {},
   "source": [
    "# Part 1: Assignment 2"
   ]
  },
  {
   "cell_type": "code",
   "execution_count": 16,
   "metadata": {},
   "outputs": [
    {
     "name": "stdout",
     "output_type": "stream",
     "text": [
      " Char   Probability \n",
      "----------------------\n",
      "'k' 0.105\n",
      "'f' 0.105\n",
      "'d' 0.105\n",
      "'J' 0.105\n",
      "'x' 0.053\n",
      "'y' 0.053\n",
      "'m' 0.053\n",
      "'w' 0.053\n",
      "'l' 0.053\n",
      "'j' 0.053\n",
      "'N' 0.053\n",
      "'n' 0.053\n",
      "'i' 0.053\n",
      "'s' 0.053\n",
      "'c' 0.053\n"
     ]
    }
   ],
   "source": [
    "float_formatter = \"{:.2f}\".format\n",
    "\n",
    "with open('text.txt', 'r') as file:\n",
    "    string = file.read() \n",
    "    \n",
    "total_characters = len(string)\n",
    "\n",
    "# Calculating frequency\n",
    "freq = {}\n",
    "for c in string:\n",
    "    if c in freq:\n",
    "        freq[c] += 1\n",
    "    else:\n",
    "        freq[c] = 1\n",
    "\n",
    "freq = sorted(freq.items(), key=lambda x: x[1], reverse=True)\n",
    "freq_df=pd.DataFrame(freq, columns=[\"Char\", \"Frequency\"])\n",
    "freq_df['Probability']=round((freq_df['Frequency']/total_characters), 3)\n",
    "\n",
    "f = freq_df[['Frequency']].to_numpy()\n",
    "c = freq_df[['Char']].to_numpy()\n",
    "p = freq_df[['Probability']].to_numpy()\n",
    "\n",
    "cp = freq_df[['Char','Probability']].to_numpy()\n",
    "\n",
    "\n",
    "\n",
    "print(' Char   Probability ')\n",
    "print('----------------------')\n",
    "print(re.sub(r' *\\n *', '\\n',\n",
    "                 np.array_str(np.c_[c, p]).replace('[', '').replace(']', '').strip()))"
   ]
  },
  {
   "cell_type": "markdown",
   "metadata": {},
   "source": [
    "# Part 2: WIP"
   ]
  },
  {
   "cell_type": "code",
   "execution_count": 3,
   "metadata": {},
   "outputs": [],
   "source": [
    "# Creating tree nodes\n",
    "class NodeTree(object):\n",
    "\n",
    "    def __init__(self, left=None, right=None):\n",
    "        self.left = left\n",
    "        self.right = right\n",
    "\n",
    "    def children(self):\n",
    "        return (self.left, self.right)\n",
    "\n",
    "    def nodes(self):\n",
    "        return (self.left, self.right)\n",
    "\n",
    "    def __str__(self):\n",
    "        return '%s_%s' % (self.left, self.right)\n",
    "\n",
    "nodes = freq\n",
    "\n",
    "# Main function implementing huffman coding\n",
    "def huffman_code_tree(node, left=True, binString=''):\n",
    "    if type(node) is str:\n",
    "        return {node: binString}\n",
    "    (l, r) = node.children()\n",
    "    d = dict()\n",
    "    d.update(huffman_code_tree(l, True, binString + '0'))\n",
    "    d.update(huffman_code_tree(r, False, binString + '1'))\n",
    "    return d\n",
    "\n",
    "while len(nodes) > 1:\n",
    "    (key1, c1) = nodes[-1]\n",
    "    (key2, c2) = nodes[-2]\n",
    "    nodes = nodes[:-2]\n",
    "    node = NodeTree(key1, key2)\n",
    "    nodes.append((node, c1 + c2))\n",
    "\n",
    "    nodes = sorted(nodes, key=lambda x: x[1], reverse=True)\n",
    "\n",
    "huffmanCode = huffman_code_tree(nodes[0][0])"
   ]
  },
  {
   "cell_type": "markdown",
   "metadata": {},
   "source": [
    "# Part 3: Symbol – Probability - Codeword"
   ]
  },
  {
   "cell_type": "code",
   "execution_count": 44,
   "metadata": {},
   "outputs": [
    {
     "name": "stdout",
     "output_type": "stream",
     "text": [
      "Symbol | Codeword\n",
      "_________________\n",
      "k   -   1111\n",
      "f   -   1110\n",
      "d   -   001\n",
      "J   -   000\n",
      "x   -   1100\n",
      "y   -   11011\n",
      "m   -   11010\n",
      "w   -   1001\n",
      "l   -   1000\n",
      "j   -   1011\n",
      "N   -   1010\n",
      "n   -   0101\n",
      "i   -   0100\n",
      "s   -   0111\n",
      "c   -   0110\n"
     ]
    }
   ],
   "source": [
    "print('Symbol | Codeword')\n",
    "print('_________________')\n",
    "for (char, frequency,) in freq:\n",
    "    print(char, '  -  ',huffmanCode[char])"
   ]
  },
  {
   "cell_type": "markdown",
   "metadata": {},
   "source": [
    "# Part 4: Output of a sequence in binary digits"
   ]
  },
  {
   "cell_type": "code",
   "execution_count": 45,
   "metadata": {},
   "outputs": [
    {
     "name": "stdout",
     "output_type": "stream",
     "text": [
      "The encoded string is:\n",
      "11001101111111101010011110100011110011011111000010100000101010000101110110\n"
     ]
    }
   ],
   "source": [
    "print('The encoded string is:')\n",
    "str = ''\n",
    "for c in string:\n",
    "    str += huffmanCode.get(c)\n",
    "print(str)"
   ]
  },
  {
   "cell_type": "code",
   "execution_count": 46,
   "metadata": {},
   "outputs": [],
   "source": [
    "file = open('new_text.txt', 'w')\n",
    "file.write(str)\n",
    "file.close()"
   ]
  },
  {
   "cell_type": "markdown",
   "metadata": {},
   "source": [
    "# Part 5: Data Compression Ratio and Average Code Length"
   ]
  },
  {
   "cell_type": "code",
   "execution_count": 74,
   "metadata": {},
   "outputs": [
    {
     "name": "stdout",
     "output_type": "stream",
     "text": [
      "Average length of the code: 1.003000\n"
     ]
    }
   ],
   "source": [
    "for (char, frequency,) in freq:\n",
    "    length_of_code = [len(k) for k in huffmanCode]\n",
    "    mean_length = sum([a*b for a, b in zip(length_of_code, p)])\n",
    "\n",
    "print(\"Average length of the code: %f\" % mean_length)"
   ]
  },
  {
   "cell_type": "code",
   "execution_count": 75,
   "metadata": {},
   "outputs": [
    {
     "name": "stdout",
     "output_type": "stream",
     "text": [
      "Number of bits in the original text: 19 bits\n",
      "Number of bits in the compressed text: 74 bits\n",
      "Compression ratio = 2.054\n",
      "Average code length = 1.003000 bits/symbol\n"
     ]
    }
   ],
   "source": [
    "t = len('new_text.txt')\n",
    "o = os.path.getsize('text.txt')\n",
    "c = os.path.getsize('new_text.txt')\n",
    "print(f'Number of bits in the original text: {o} bits')\n",
    "print(f'Number of bits in the compressed text: {c} bits')\n",
    "print('Compression ratio = {}'.format(round((((8*o)/c)), 3)))\n",
    "print(f'Average code length = %f bits/symbol' % mean_length)"
   ]
  }
 ],
 "metadata": {
  "kernelspec": {
   "display_name": "Python 3",
   "language": "python",
   "name": "python3"
  },
  "language_info": {
   "codemirror_mode": {
    "name": "ipython",
    "version": 3
   },
   "file_extension": ".py",
   "mimetype": "text/x-python",
   "name": "python",
   "nbconvert_exporter": "python",
   "pygments_lexer": "ipython3",
   "version": "3.8.3"
  }
 },
 "nbformat": 4,
 "nbformat_minor": 4
}
