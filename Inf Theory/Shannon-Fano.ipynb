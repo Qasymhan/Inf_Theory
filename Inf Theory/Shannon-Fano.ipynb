{
 "cells": [
  {
   "cell_type": "code",
   "execution_count": 1,
   "metadata": {},
   "outputs": [],
   "source": [
    "import numpy as np\n",
    "import pandas as pd\n",
    "import warnings\n",
    "import math\n",
    "import collections\n",
    "import pprint"
   ]
  },
  {
   "cell_type": "code",
   "execution_count": 2,
   "metadata": {},
   "outputs": [],
   "source": [
    "text = open('Text.txt', 'r')\n",
    "data = text.read()\n",
    "l = len(data)\n",
    "nl = \"\\n\""
   ]
  },
  {
   "cell_type": "markdown",
   "metadata": {},
   "source": [
    "### Part 1 of the Project"
   ]
  },
  {
   "cell_type": "code",
   "execution_count": 3,
   "metadata": {},
   "outputs": [
    {
     "name": "stdout",
     "output_type": "stream",
     "text": [
      "String: \n",
      "\n",
      "A love letter to journalists set in an outpost of an American newspaper in a fictional 20th-century French city that brings to life a collection of stories published in \"The French Dispatch\". \n",
      "\n",
      "Character probability: \n",
      "\n",
      "Space - 0.162\n",
      "t - 0.089\n",
      "e - 0.079\n",
      "i - 0.073\n",
      "n - 0.073\n",
      "o - 0.063\n",
      "a - 0.052\n",
      "s - 0.052\n",
      "c - 0.047\n",
      "r - 0.047\n",
      "l - 0.042\n",
      "h - 0.037\n",
      "p - 0.026\n",
      "f - 0.021\n",
      "u - 0.021\n",
      "F - 0.01\n",
      "b - 0.01\n",
      "A - 0.01\n",
      "y - 0.01\n",
      "\" - 0.01\n",
      "- - 0.005\n",
      "2 - 0.005\n",
      "T - 0.005\n",
      "m - 0.005\n",
      "d - 0.005\n",
      "j - 0.005\n",
      "w - 0.005\n",
      "g - 0.005\n",
      "D - 0.005\n",
      "0 - 0.005\n",
      ". - 0.005\n",
      "v - 0.005\n"
     ]
    }
   ],
   "source": [
    "print (\"String:\", nl)\n",
    "print (data, nl)\n",
    "print (\"Character probability:\", nl)\n",
    "\n",
    "def frequency_to_probability(character, text_list, l):\n",
    "    probability = text_list.count(character) / l\n",
    "    return round(probability, 3)\n",
    "\n",
    "def dictionary_func(data):\n",
    "    characters = list(set(data))\n",
    "    l = len(data)\n",
    "    text_list = list(data)\n",
    "    dictionary = {}\n",
    "    for characters in characters:\n",
    "\n",
    "        dictionary[characters] = frequency_to_probability(characters, text_list, l)\n",
    "        if characters == ' ':\n",
    "            dictionary['Space'] = dictionary[' ']\n",
    "            del dictionary[' ']\n",
    "    return dict(sorted(dictionary.items(), key=lambda item: item[1], reverse=True))\n",
    "\n",
    "def results_display(dictionary):\n",
    "    for key in dictionary.keys():\n",
    "        print(f'{key} - {dictionary[key]}')\n",
    "\n",
    "def results(data):\n",
    "        results = results_display(dictionary_func(data))\n",
    "        return results\n",
    "results(data)"
   ]
  },
  {
   "cell_type": "code",
   "execution_count": null,
   "metadata": {},
   "outputs": [],
   "source": []
  }
 ],
 "metadata": {
  "kernelspec": {
   "display_name": "Python 3",
   "language": "python",
   "name": "python3"
  },
  "language_info": {
   "codemirror_mode": {
    "name": "ipython",
    "version": 3
   },
   "file_extension": ".py",
   "mimetype": "text/x-python",
   "name": "python",
   "nbconvert_exporter": "python",
   "pygments_lexer": "ipython3",
   "version": "3.8.3"
  }
 },
 "nbformat": 4,
 "nbformat_minor": 4
}
