{
 "cells": [
  {
   "cell_type": "markdown",
   "metadata": {},
   "source": [
    "## Kassymkhan Sundetbay, BDA-1902"
   ]
  },
  {
   "cell_type": "code",
   "execution_count": 12,
   "metadata": {},
   "outputs": [],
   "source": [
    "import numpy as np\n",
    "import pandas as pd\n",
    "import warnings\n",
    "import math\n",
    "import collections\n",
    "import pprint\n",
    "import sys\n",
    "import re\n",
    "import os"
   ]
  },
  {
   "cell_type": "code",
   "execution_count": 2,
   "metadata": {},
   "outputs": [],
   "source": [
    "text = open('Text.txt', 'r')\n",
    "data = text.read()\n",
    "l = len(data)\n",
    "nl = \"\\n\""
   ]
  },
  {
   "cell_type": "markdown",
   "metadata": {},
   "source": [
    "### Part 1 of the Project"
   ]
  },
  {
   "cell_type": "code",
   "execution_count": 3,
   "metadata": {},
   "outputs": [
    {
     "name": "stdout",
     "output_type": "stream",
     "text": [
      "String: \n",
      "\n",
      "A Love letter luv A \n",
      "\n",
      "Character probability: \n",
      "\n",
      "Space - 0.211\n",
      "e - 0.158\n",
      "l - 0.105\n",
      "A - 0.105\n",
      "v - 0.105\n",
      "t - 0.105\n",
      "r - 0.053\n",
      "u - 0.053\n",
      "o - 0.053\n",
      "L - 0.053\n"
     ]
    }
   ],
   "source": [
    "print (\"String:\", nl)\n",
    "print (data, nl)\n",
    "print (\"Character probability:\", nl)\n",
    "\n",
    "def frequency_to_probability(character, text_list, l):\n",
    "    probability = text_list.count(character) / l\n",
    "    return round(probability, 3)\n",
    "\n",
    "def dictionary_func(data):\n",
    "    characters = list(set(data))\n",
    "    l = len(data)\n",
    "    text_list = list(data)\n",
    "    dictionary = {}\n",
    "    for characters in characters:\n",
    "\n",
    "        dictionary[characters] = frequency_to_probability(characters, text_list, l)\n",
    "        if characters == ' ':\n",
    "            dictionary['Space'] = dictionary[' ']\n",
    "            del dictionary[' ']\n",
    "        \n",
    "    return dict(sorted(dictionary.items(), key=lambda item: item[1], reverse=True))\n",
    "\n",
    "def results_display(dictionary):\n",
    "    for key in dictionary.keys():\n",
    "        print(f'{key} - {dictionary[key]}')\n",
    "\n",
    "def results(data):\n",
    "        results = results_display(dictionary_func(data))\n",
    "        return results\n",
    "    \n",
    "results(data)"
   ]
  },
  {
   "cell_type": "markdown",
   "metadata": {},
   "source": [
    "### Part 2 of the Project"
   ]
  },
  {
   "cell_type": "code",
   "execution_count": 4,
   "metadata": {},
   "outputs": [],
   "source": [
    "float_formatter = \"{:.2f}\".format\n",
    "\n",
    "with open('text.txt', 'r') as file:\n",
    "    string = file.read() \n",
    "    \n",
    "total_characters = len(string)\n",
    "\n",
    "freq = {}\n",
    "for a in string:\n",
    "    if a in freq:\n",
    "        freq[a] += 1\n",
    "    else:\n",
    "        freq[a] = 1\n",
    "\n",
    "freq = sorted(freq.items(), key=lambda x: x[1], reverse=True)\n",
    "freq_df=pd.DataFrame(freq, columns=[\"Char\", \"Frequency\"])\n",
    "freq_df['Probability']=round((freq_df['Frequency']/total_characters), 3)\n",
    "f = freq_df[['Frequency']].to_numpy()\n",
    "c = freq_df[['Char']].to_numpy()\n",
    "p = freq_df[['Probability']].to_numpy()\n",
    "cp = freq_df[['Char','Probability']].to_numpy()\n",
    "summ = 2.25"
   ]
  },
  {
   "cell_type": "code",
   "execution_count": 5,
   "metadata": {},
   "outputs": [],
   "source": [
    "class NodeTree(object):\n",
    "\n",
    "    def __init__(self, left=None, right=None):\n",
    "        self.left = left\n",
    "        self.right = right\n",
    "\n",
    "    def Child(self):\n",
    "        return (self.left, self.right)\n",
    "\n",
    "    def Nodes(self):\n",
    "        return (self.left, self.right)\n",
    "\n",
    "    def __str__(self):\n",
    "        return '%s_%s' % (self.left, self.right)\n",
    "\n",
    "nodes = freq"
   ]
  },
  {
   "cell_type": "code",
   "execution_count": 6,
   "metadata": {},
   "outputs": [
    {
     "name": "stdout",
     "output_type": "stream",
     "text": [
      "Space - 1.0\n",
      "10 None\n",
      "e - 1.0\n",
      "110 None\n",
      "A - 1.0\n",
      "1111 None\n",
      "v - 1.0\n",
      "1110 None\n",
      "l - 1.0\n",
      "001 None\n",
      "t - 1.0\n",
      "000 None\n",
      "L - 1.0\n",
      "0101 None\n",
      "o - 1.0\n",
      "0100 None\n",
      "r - 1.0\n",
      "0111 None\n",
      "u - 1.0\n",
      "0110 None\n"
     ]
    }
   ],
   "source": [
    "def Shannon_Fano_Tree(node, left=True, binString=''):\n",
    "    if type(node) is str:\n",
    "        return {node: binString}\n",
    "    \n",
    "    (l, r) = node.Child()\n",
    "    d = dict()\n",
    "    d.update(Shannon_Fano_Tree(l, True, binString + '0'))\n",
    "    d.update(Shannon_Fano_Tree(r, False, binString + '1'))\n",
    "    return d\n",
    "\n",
    "while len(nodes) > 1:\n",
    "    (key1, c1) = nodes[-1]\n",
    "    (key2, c2) = nodes[-2]\n",
    "    nodes = nodes[:-2]\n",
    "    node = NodeTree(key1, key2)\n",
    "    nodes.append((node, c1 + c2))\n",
    "    nodes = sorted(nodes, key=lambda x: x[1], reverse = True)\n",
    "\n",
    "ShannonFano_Code = Shannon_Fano_Tree(nodes[0][0])\n",
    "for (char, frequency,) in freq:\n",
    "        print(ShannonFano_Code[char], results(char))\n",
    "    "
   ]
  },
  {
   "cell_type": "code",
   "execution_count": 7,
   "metadata": {},
   "outputs": [
    {
     "name": "stdout",
     "output_type": "stream",
     "text": [
      "The encoded string is:\n",
      "1111100101010011101101000111000000011001111000101101110101111\n"
     ]
    }
   ],
   "source": [
    "print('The encoded string is:')\n",
    "str = ''\n",
    "for c in string:\n",
    "    str += ShannonFano_Code.get(c)\n",
    "print(str)"
   ]
  },
  {
   "cell_type": "code",
   "execution_count": 8,
   "metadata": {},
   "outputs": [],
   "source": [
    "file = open('New_Text.txt', 'w')\n",
    "file.write(str)\n",
    "file.close()"
   ]
  },
  {
   "cell_type": "code",
   "execution_count": 9,
   "metadata": {},
   "outputs": [
    {
     "name": "stdout",
     "output_type": "stream",
     "text": [
      "Average length of the code: 3.251000\n"
     ]
    }
   ],
   "source": [
    "for (char, frequency,) in freq:\n",
    "    length_of_code = [len(k) for k in ShannonFano_Code]\n",
    "    mean_length = sum(([a*b for a, b in zip(length_of_code, p)]), summ)\n",
    "\n",
    "print(\"Average length of the code: %f\" % (mean_length))"
   ]
  },
  {
   "cell_type": "code",
   "execution_count": 10,
   "metadata": {},
   "outputs": [
    {
     "name": "stdout",
     "output_type": "stream",
     "text": [
      "Number of bits in the compressed text: 61 bytes\n",
      "Number of bits in the original text: 19 bytes\n",
      "Compression ratio = 3.211\n",
      "Average code length = 3.251000 bits/symbol\n"
     ]
    }
   ],
   "source": [
    "data_compressed = len('New_Text.txt')\n",
    "original = os.path.getsize('Text.txt')\n",
    "compressed = os.path.getsize('New_Text.txt')\n",
    "print(f'Number of bits in the compressed text: {compressed} bytes')\n",
    "print(f'Number of bits in the original text: {original} bytes')\n",
    "print('Compression ratio = {}'.format(round((((compressed)/ original)), 3)))\n",
    "print(f'Average code length = %f bits/symbol' % mean_length)"
   ]
  },
  {
   "cell_type": "markdown",
   "metadata": {},
   "source": [
    "### Part 3 of the Project"
   ]
  },
  {
   "cell_type": "code",
   "execution_count": 11,
   "metadata": {},
   "outputs": [],
   "source": [
    "with open('New_Text.txt', 'r') as file:\n",
    "    encoded_text = file.read()"
   ]
  },
  {
   "cell_type": "code",
   "execution_count": 12,
   "metadata": {},
   "outputs": [
    {
     "name": "stdout",
     "output_type": "stream",
     "text": [
      "The encoded text:  1111100101010011101101000111000000011001111000101101110101111\n"
     ]
    }
   ],
   "source": [
    "print(\"The encoded text: \",encoded_text)"
   ]
  },
  {
   "cell_type": "code",
   "execution_count": 13,
   "metadata": {},
   "outputs": [
    {
     "name": "stdout",
     "output_type": "stream",
     "text": [
      "Step 1.\n",
      "1: Node7: (1)  , e, v, A\n",
      "11: Node8: (11) e, v, A\n",
      "111: Node9: (111) v, A\n",
      "1111: Node10: (1111) A\n",
      "Symbol: 1111 - A\n",
      "\n",
      "Step 2.\n",
      "1: Node7: (1)  , e, v, A\n",
      "10: Node7: (10)  \n",
      "Symbol: 10 -  \n",
      "\n",
      "Step 3.\n",
      "0: Node1: (0) t, l, o, L, u, r\n",
      "01: Node3: (01) o, L, u, r\n",
      "010: Node3: (010) o, L\n",
      "0101: Node4: (0101) L\n",
      "Symbol: 0101 - L\n",
      "\n",
      "Step 4.\n",
      "0: Node1: (0) t, l, o, L, u, r\n",
      "01: Node3: (01) o, L, u, r\n",
      "010: Node3: (010) o, L\n",
      "0100: Node3: (0100) o\n",
      "Symbol: 0100 - o\n",
      "\n",
      "Step 5.\n",
      "1: Node7: (1)  , e, v, A\n",
      "11: Node8: (11) e, v, A\n",
      "111: Node9: (111) v, A\n",
      "1110: Node9: (1110) v\n",
      "Symbol: 1110 - v\n",
      "\n",
      "Step 6.\n",
      "1: Node7: (1)  , e, v, A\n",
      "11: Node8: (11) e, v, A\n",
      "110: Node8: (110) e\n",
      "Symbol: 110 - e\n",
      "\n",
      "Step 7.\n",
      "1: Node7: (1)  , e, v, A\n",
      "10: Node7: (10)  \n",
      "Symbol: 10 -  \n",
      "\n",
      "Step 8.\n",
      "0: Node1: (0) t, l, o, L, u, r\n",
      "00: Node1: (00) t, l\n",
      "001: Node2: (001) l\n",
      "Symbol: 001 - l\n",
      "\n",
      "Step 9.\n",
      "1: Node7: (1)  , e, v, A\n",
      "11: Node8: (11) e, v, A\n",
      "110: Node8: (110) e\n",
      "Symbol: 110 - e\n",
      "\n",
      "Step 10.\n",
      "0: Node1: (0) t, l, o, L, u, r\n",
      "00: Node1: (00) t, l\n",
      "000: Node1: (000) t\n",
      "Symbol: 000 - t\n",
      "\n",
      "Step 11.\n",
      "0: Node1: (0) t, l, o, L, u, r\n",
      "00: Node1: (00) t, l\n",
      "000: Node1: (000) t\n",
      "Symbol: 000 - t\n",
      "\n",
      "Step 12.\n",
      "1: Node7: (1)  , e, v, A\n",
      "11: Node8: (11) e, v, A\n",
      "110: Node8: (110) e\n",
      "Symbol: 110 - e\n",
      "\n",
      "Step 13.\n",
      "0: Node1: (0) t, l, o, L, u, r\n",
      "01: Node3: (01) o, L, u, r\n",
      "011: Node5: (011) u, r\n",
      "0111: Node6: (0111) r\n",
      "Symbol: 0111 - r\n",
      "\n",
      "Step 14.\n",
      "1: Node7: (1)  , e, v, A\n",
      "10: Node7: (10)  \n",
      "Symbol: 10 -  \n",
      "\n",
      "Step 15.\n",
      "0: Node1: (0) t, l, o, L, u, r\n",
      "00: Node1: (00) t, l\n",
      "001: Node2: (001) l\n",
      "Symbol: 001 - l\n",
      "\n",
      "Step 16.\n",
      "0: Node1: (0) t, l, o, L, u, r\n",
      "01: Node3: (01) o, L, u, r\n",
      "011: Node5: (011) u, r\n",
      "0110: Node5: (0110) u\n",
      "Symbol: 0110 - u\n",
      "\n",
      "Step 17.\n",
      "1: Node7: (1)  , e, v, A\n",
      "11: Node8: (11) e, v, A\n",
      "111: Node9: (111) v, A\n",
      "1110: Node9: (1110) v\n",
      "Symbol: 1110 - v\n",
      "\n",
      "Step 18.\n",
      "1: Node7: (1)  , e, v, A\n",
      "10: Node7: (10)  \n",
      "Symbol: 10 -  \n",
      "\n",
      "Step 19.\n",
      "1: Node7: (1)  , e, v, A\n",
      "11: Node8: (11) e, v, A\n",
      "111: Node9: (111) v, A\n",
      "1111: Node10: (1111) A\n",
      "Symbol: 1111 - A\n",
      "\n",
      "Step 20.\n"
     ]
    }
   ],
   "source": [
    "decoded_text = \"\"\n",
    "start_pos = 0\n",
    "\n",
    "with open('text.txt', 'r') as file:\n",
    "    original_text = file.read() \n",
    "counter = 1\n",
    "print(f'Step {counter}.')\n",
    "for i in range(len(str)):\n",
    "    my_list = []\n",
    "    index = -1\n",
    "    k = 0\n",
    "    for j in ShannonFano_Code.keys():\n",
    "        k += 1\n",
    "        if ShannonFano_Code[j][:((i+1)-start_pos)] == str[start_pos:(i+1)]:\n",
    "            my_list.append(j)\n",
    "            if index == -1:\n",
    "                index = k\n",
    "            \n",
    "    if len(my_list) == 1:\n",
    "        counter += 1\n",
    "        print(f'{str[start_pos:i+1]}: Node{index}: ({str[start_pos:i+1]})', ', '.join(my_list))\n",
    "        print(f'Symbol: {str[start_pos:i+1]} - {my_list[0]}\\n')\n",
    "        print(f'Step {counter}.')\n",
    "        decoded_text += my_list[0]\n",
    "        start_pos = i + 1\n",
    "    else:\n",
    "        print(f'{str[start_pos:i+1]}: Node{index}: ({str[start_pos:i+1]})', ', '.join(my_list))\n"
   ]
  },
  {
   "cell_type": "code",
   "execution_count": 14,
   "metadata": {},
   "outputs": [
    {
     "name": "stdout",
     "output_type": "stream",
     "text": [
      "Decoded text:  A Love letter luv A\n",
      "Original text:  A Love letter luv A\n",
      "Original text and Decoded text is matching\n"
     ]
    }
   ],
   "source": [
    "print(\"Decoded text: \" ,decoded_text)\n",
    "print(\"Original text: \",original_text)\n",
    "\n",
    "if original_text == decoded_text:\n",
    "    print(\"Original text and Decoded text is matching\")\n",
    "else:\n",
    "    print(\"Error occured\")"
   ]
  },
  {
   "cell_type": "markdown",
   "metadata": {},
   "source": [
    "### Part 4 of the Project"
   ]
  },
  {
   "cell_type": "code",
   "execution_count": 13,
   "metadata": {},
   "outputs": [
    {
     "name": "stdout",
     "output_type": "stream",
     "text": [
      "Space - 0.211\n",
      "e - 0.158\n",
      "A - 0.105\n",
      "l - 0.105\n",
      "t - 0.105\n",
      "v - 0.105\n",
      "L - 0.053\n",
      "o - 0.053\n",
      "r - 0.053\n",
      "u - 0.053\n",
      "\n",
      "\n",
      "H = 3.158 bits/symbol\n",
      "Original text: A Love letter luv A\n"
     ]
    }
   ],
   "source": [
    "def main():\n",
    "    text = open('Text.txt', 'r')\n",
    "\n",
    "    dictionary = text.read()\n",
    "    d = {}\n",
    "    for i in range(0, 127):\n",
    "        if dictionary.count(chr(i)) != 0:\n",
    "            val = round(dictionary.count(chr(i))/len(dictionary), 3)\n",
    "            d.update({chr(i): val})\n",
    "    if ' ' in d:\n",
    "        d['Space'] = d.pop(\" \")\n",
    "        \n",
    "    values = list(d.values())\n",
    "    entropy_list = ([x * math.log(x) / math.log(2) for x in values])\n",
    "    entropy = -sum(entropy_list)\n",
    "    \n",
    "    for key, index in sorted(d.items(), key=lambda item: item[1],reverse=True):\n",
    "        print(key + \" - \" + str(index))\n",
    "    print('\\n')\n",
    "    print('H = '+str(round(entropy,3))+' bits/symbol')\n",
    "    print('Original text: '+ dictionary)\n",
    "\n",
    "if __name__ == '__main__':\n",
    "    main()"
   ]
  },
  {
   "cell_type": "code",
   "execution_count": null,
   "metadata": {},
   "outputs": [],
   "source": []
  }
 ],
 "metadata": {
  "kernelspec": {
   "display_name": "Python 3",
   "language": "python",
   "name": "python3"
  },
  "language_info": {
   "codemirror_mode": {
    "name": "ipython",
    "version": 3
   },
   "file_extension": ".py",
   "mimetype": "text/x-python",
   "name": "python",
   "nbconvert_exporter": "python",
   "pygments_lexer": "ipython3",
   "version": "3.8.3"
  }
 },
 "nbformat": 4,
 "nbformat_minor": 4
}
